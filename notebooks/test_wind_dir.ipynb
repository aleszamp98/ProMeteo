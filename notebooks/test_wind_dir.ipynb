{
 "cells": [
  {
   "cell_type": "code",
   "execution_count": 1,
   "id": "1e98390e",
   "metadata": {},
   "outputs": [],
   "source": [
    "\n",
    "import numpy as np\n",
    "import pandas as pd\n"
   ]
  },
  {
   "cell_type": "code",
   "execution_count": 23,
   "id": "a39f87ac",
   "metadata": {},
   "outputs": [],
   "source": [
    "def wind_dir_prova_ale(u,v,azimuth,model):\n",
    "    # --- Set the wind components based on the anemometer model ---\n",
    "    # Based on the model, adjust the wind components (u, v) to align with the LEC system.\n",
    "    if model == \"RM_YOUNG_81000\":\n",
    "        u_LEC = -u   # Reverse the direction of the u component\n",
    "        v_LEC = -v   # Reverse the direction of the v component\n",
    "    elif model == \"CAMPBELL_CSAT3\":\n",
    "        u_LEC = v    # Swap the u and v components\n",
    "        v_LEC = -u   # Reverse the direction of the u component\n",
    "\n",
    "    wind_direction = (np.degrees(np.arctan2(u_LEC, v_LEC)) + azimuth + 180) % 360\n",
    "\n",
    "    return wind_direction"
   ]
  },
  {
   "cell_type": "code",
   "execution_count": 24,
   "id": "8c12b512",
   "metadata": {},
   "outputs": [],
   "source": [
    "def wind_dir_prova_samuel(u,v,azimuth,model):\n",
    "    # --- Set the wind components based on the anemometer model ---\n",
    "    # Based on the model, adjust the wind components (u, v) to align with the LEC system.\n",
    "    if model == \"RM_YOUNG_81000\":\n",
    "        u_LEC = -u   # Reverse the direction of the u component\n",
    "        v_LEC = -v   # Reverse the direction of the v component\n",
    "    elif model == \"CAMPBELL_CSAT3\":\n",
    "        u_LEC = v    # Swap the u and v components\n",
    "        v_LEC = -u   # Reverse the direction of the u component\n",
    "\n",
    "    wind_direction = (- np.degrees(np.arctan2(v_LEC, u_LEC)) + 270 + azimuth) % 360\n",
    "    return wind_direction"
   ]
  },
  {
   "cell_type": "code",
   "execution_count": null,
   "id": "a6bde73c",
   "metadata": {},
   "outputs": [
    {
     "name": "stdout",
     "output_type": "stream",
     "text": [
      "[ 40. 140. 220. 310.]\n",
      "[ 40. 140. 220. 310.]\n"
     ]
    }
   ],
   "source": [
    "# casistiche:\n",
    "# A\n",
    "# azimuth acuto (30°) | vento da N-E (40°)<=> I quadrante\n",
    "# azimuth acuto (30°) | vento da S-E (180-40=140) <=> II quadrante\n",
    "# azimuth acuto (30°) | vento da S-W (180+40=220) <=> III quadrante\n",
    "# azimuth acuto (30°) | vento da N-W (270+40=310) <=> IV quandrante\n",
    "\n",
    "\n",
    "azimuth = 30\n",
    "u_measured_LEC_rot = np.array([-np.sin(np.deg2rad(40-30)),\n",
    "                               -np.cos(np.deg2rad(90-40-30)),\n",
    "                               np.sin(np.deg2rad(40-30)),\n",
    "                               np.cos(np.deg2rad(40-30))\n",
    "                       ])\n",
    "v_measured_LEC_rot = np.array([-np.cos(np.deg2rad(40-30)),\n",
    "                               np.sin(np.deg2rad(90-40-30)),\n",
    "                               np.cos(np.deg2rad(40-30)),\n",
    "                               -np.sin(np.deg2rad(40-30))\n",
    "                      ])\n",
    "u_measured_Y = - u_measured_LEC_rot\n",
    "v_measured_Y = - v_measured_LEC_rot\n",
    "wind_dir_expected = [40, 140, 220, 310]\n"
   ]
  },
  {
   "cell_type": "code",
   "execution_count": 35,
   "id": "1bddc740",
   "metadata": {},
   "outputs": [
    {
     "name": "stdout",
     "output_type": "stream",
     "text": [
      "[ 40. 140. 220. 310.]\n",
      "[ 40. 140. 220. 310.]\n"
     ]
    }
   ],
   "source": [
    "\n",
    "# D\n",
    "# azimuth ottuso (120°) | vento da N-E (40°)<=> I quadrante\n",
    "# azimuth ottuso (120°) | vento da S-E (180-40=140) <=> II quadrante\n",
    "# azimuth ottuso (120°) | vento da S-W (180+40=220) <=> III quadrante\n",
    "# azimuth ottuso (120°) | vento da N-W (270+40=310) <=> IV quandrante\n",
    "azimuth = 120\n",
    "u_measured_LEC_rot = np.array([np.cos(np.deg2rad(40-30)),\n",
    "                               -np.sin(np.deg2rad(20)),\n",
    "                               -np.cos(np.deg2rad(40-30)),\n",
    "                               np.sin(np.deg2rad(40-30))\n",
    "                       ])\n",
    "v_measured_LEC_rot = np.array([-np.sin(np.deg2rad(40-30)),\n",
    "                               -np.cos(np.deg2rad(20)),\n",
    "                               np.sin(np.deg2rad(40-30)),\n",
    "                               np.cos(np.deg2rad(40-30))\n",
    "                               \n",
    "                      ])\n",
    "u_measured_Y = - u_measured_LEC_rot\n",
    "v_measured_Y = - v_measured_LEC_rot\n",
    "wind_dir_expected = [40, 140, 220, 310]\n",
    "wind_dir_result_ale = wind_dir_prova_ale(u_measured_Y,v_measured_Y,azimuth,model=\"RM_YOUNG_81000\")\n",
    "print(wind_dir_result_ale)\n",
    "wind_dir_result_samuel = wind_dir_prova_samuel(u_measured_Y,v_measured_Y,azimuth,model=\"RM_YOUNG_81000\")\n",
    "print(wind_dir_result_samuel)"
   ]
  },
  {
   "cell_type": "code",
   "execution_count": null,
   "id": "e1a76785",
   "metadata": {},
   "outputs": [],
   "source": []
  },
  {
   "cell_type": "code",
   "execution_count": null,
   "id": "0b3bf4f2",
   "metadata": {},
   "outputs": [],
   "source": []
  }
 ],
 "metadata": {
  "kernelspec": {
   "display_name": "base",
   "language": "python",
   "name": "python3"
  },
  "language_info": {
   "codemirror_mode": {
    "name": "ipython",
    "version": 3
   },
   "file_extension": ".py",
   "mimetype": "text/x-python",
   "name": "python",
   "nbconvert_exporter": "python",
   "pygments_lexer": "ipython3",
   "version": "3.9.17"
  }
 },
 "nbformat": 4,
 "nbformat_minor": 5
}
